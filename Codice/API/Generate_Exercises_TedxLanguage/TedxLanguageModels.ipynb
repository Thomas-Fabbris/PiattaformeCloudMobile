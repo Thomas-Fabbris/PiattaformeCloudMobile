{
 "cells": [
  {
   "cell_type": "code",
   "execution_count": null,
   "id": "f61a4b0c-3b7f-4896-be4e-d572f6e6716a",
   "metadata": {},
   "outputs": [],
   "source": [
    "from sagemaker.huggingface import HuggingFaceModel\n",
    "from sagemaker import get_execution_role\n",
    "import sagemaker\n",
    "\n",
    "role = get_execution_role()\n",
    "sess = sagemaker.Session()\n",
    "\n",
    "# Modello fill-mask\n",
    "hub = {\n",
    "    'HF_MODEL_ID': 'bert-base-uncased',\n",
    "    'HF_TASK': 'fill-mask'\n",
    "}\n",
    "\n",
    "huggingface_model = HuggingFaceModel(\n",
    "    transformers_version='4.26',\n",
    "    pytorch_version='1.13',\n",
    "    py_version='py39',\n",
    "    env=hub,\n",
    "    role=role\n",
    ")\n",
    "\n",
    "predictor = huggingface_model.deploy(\n",
    "    initial_instance_count=1,\n",
    "    instance_type='ml.m5.large',\n",
    "    endpoint_name='NLP-Exercise-Generator'\n",
    ")"
   ]
  },
  {
   "cell_type": "code",
   "execution_count": 3,
   "id": "2ca9fd41-c169-42eb-9064-31f71625fa45",
   "metadata": {},
   "outputs": [
    {
     "data": {
      "text/plain": [
       "[{'score': 0.1228703111410141,\n",
       "  'token': 4286,\n",
       "  'token_str': 'humans',\n",
       "  'sequence': 'climate change is caused by humans.'},\n",
       " {'score': 0.07619956135749817,\n",
       "  'token': 4785,\n",
       "  'token_str': 'climate',\n",
       "  'sequence': 'climate change is caused by climate.'},\n",
       " {'score': 0.04423470422625542,\n",
       "  'token': 4633,\n",
       "  'token_str': 'weather',\n",
       "  'sequence': 'climate change is caused by weather.'},\n",
       " {'score': 0.038197193294763565,\n",
       "  'token': 17932,\n",
       "  'token_str': 'earthquakes',\n",
       "  'sequence': 'climate change is caused by earthquakes.'},\n",
       " {'score': 0.03391120210289955,\n",
       "  'token': 10796,\n",
       "  'token_str': 'pollution',\n",
       "  'sequence': 'climate change is caused by pollution.'}]"
      ]
     },
     "execution_count": 3,
     "metadata": {},
     "output_type": "execute_result"
    }
   ],
   "source": [
    "predictor.predict({\n",
    "    \"inputs\": \"Climate change is caused by [MASK].\"\n",
    "})"
   ]
  },
  {
   "cell_type": "code",
   "execution_count": 3,
   "id": "b7f67f93-6ad5-40b5-bbd1-874dadb5d436",
   "metadata": {},
   "outputs": [
    {
     "name": "stdout",
     "output_type": "stream",
     "text": [
      "------!"
     ]
    }
   ],
   "source": [
    "# Modello QG-E2E\n",
    "\n",
    "hub = {\n",
    "    'HF_MODEL_ID': 'valhalla/t5-base-e2e-qg',\n",
    "    'HF_TASK': 'text2text-generation'\n",
    "}\n",
    "\n",
    "qg_model = HuggingFaceModel(\n",
    "    transformers_version='4.26',\n",
    "    pytorch_version='1.13',\n",
    "    py_version='py39',\n",
    "    env=hub,\n",
    "    role=role\n",
    ")\n",
    "\n",
    "qg_predictor = qg_model.deploy(\n",
    "    initial_instance_count=1,\n",
    "    instance_type='ml.m5.large',\n",
    "    endpoint_name='QG-E2E'\n",
    ")"
   ]
  },
  {
   "cell_type": "code",
   "execution_count": null,
   "id": "b69b9d42-da69-49cb-af2e-37a874c746ab",
   "metadata": {},
   "outputs": [],
   "source": [
    "response = qg_predictor.predict({\n",
    "    \"inputs\": \"generate question: The Eiffel Tower is located in Paris.\"\n",
    "})"
   ]
  }
 ],
 "metadata": {
  "kernelspec": {
   "display_name": "conda_python3",
   "language": "python",
   "name": "conda_python3"
  },
  "language_info": {
   "codemirror_mode": {
    "name": "ipython",
    "version": 3
   },
   "file_extension": ".py",
   "mimetype": "text/x-python",
   "name": "python",
   "nbconvert_exporter": "python",
   "pygments_lexer": "ipython3",
   "version": "3.10.18"
  }
 },
 "nbformat": 4,
 "nbformat_minor": 5
}
