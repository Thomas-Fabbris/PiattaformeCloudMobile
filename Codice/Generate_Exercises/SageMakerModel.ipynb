from sagemaker.huggingface import HuggingFaceModel
from sagemaker import get_execution_role
import sagemaker

role = get_execution_role()
sess = sagemaker.Session()

hub = {
    'HF_MODEL_ID': 'bert-base-uncased',
    'HF_TASK': 'fill-mask'
}

huggingface_model = HuggingFaceModel(
    transformers_version='4.26',
    pytorch_version='1.13',
    py_version='py39',
    env=hub,
    role=role
)

predictor = huggingface_model.deploy(
    initial_instance_count=1,
    instance_type='ml.t2.medium',
    endpoint_name='NLP-Exercise-Generator'
)

predictor.predict({
    "inputs": "Climate change is caused by [MASK]."
})
